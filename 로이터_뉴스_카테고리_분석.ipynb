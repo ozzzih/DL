{
 "cells": [
  {
   "cell_type": "markdown",
   "id": "357d452e",
   "metadata": {},
   "source": [
    "## LSTM을 이용해 로이터 뉴스 카테고리 분석하기"
   ]
  },
  {
   "cell_type": "code",
   "execution_count": 2,
   "id": "1346352e",
   "metadata": {},
   "outputs": [],
   "source": [
    "from tensorflow.keras.models import Sequential\n",
    "from tensorflow.keras.layers import Dense, LSTM, Embedding\n",
    "from tensorflow.keras.utils import to_categorical\n",
    "from tensorflow.keras.preprocessing import sequence\n",
    "from tensorflow.keras.datasets import reuters\n",
    "from tensorflow.keras.callbacks import EarlyStopping"
   ]
  },
  {
   "cell_type": "code",
   "execution_count": 3,
   "id": "f652925b",
   "metadata": {},
   "outputs": [],
   "source": [
    "import numpy as np\n",
    "import matplotlib.pyplot as plt"
   ]
  },
  {
   "cell_type": "code",
   "execution_count": 4,
   "id": "9752b27d",
   "metadata": {},
   "outputs": [
    {
     "name": "stdout",
     "output_type": "stream",
     "text": [
      "Downloading data from https://storage.googleapis.com/tensorflow/tf-keras-datasets/reuters.npz\n",
      "2110848/2110848 [==============================] - 0s 0us/step\n"
     ]
    }
   ],
   "source": [
    "(X_train, y_train), (X_test, y_test) = reuters.load_data(num_words=1000, test_split=0.2)"
   ]
  },
  {
   "cell_type": "code",
   "execution_count": 5,
   "id": "8c26d8cb",
   "metadata": {},
   "outputs": [
    {
     "name": "stdout",
     "output_type": "stream",
     "text": [
      "46 카테고리\n",
      "8982 학습용 뉴스 기사\n",
      "2246 테스트용 뉴스 기사\n",
      "[1, 2, 2, 8, 43, 10, 447, 5, 25, 207, 270, 5, 2, 111, 16, 369, 186, 90, 67, 7, 89, 5, 19, 102, 6, 19, 124, 15, 90, 67, 84, 22, 482, 26, 7, 48, 4, 49, 8, 864, 39, 209, 154, 6, 151, 6, 83, 11, 15, 22, 155, 11, 15, 7, 48, 9, 2, 2, 504, 6, 258, 6, 272, 11, 15, 22, 134, 44, 11, 15, 16, 8, 197, 2, 90, 67, 52, 29, 209, 30, 32, 132, 6, 109, 15, 17, 12]\n"
     ]
    }
   ],
   "source": [
    "category = np.max(y_train)+1\n",
    "print(category, '카테고리')\n",
    "print(len(X_train), '학습용 뉴스 기사')\n",
    "print(len(X_test), '테스트용 뉴스 기사')\n",
    "print(X_train[0])"
   ]
  },
  {
   "cell_type": "code",
   "execution_count": 6,
   "id": "75c4d0af",
   "metadata": {},
   "outputs": [],
   "source": [
    "#단어 수 맞춰주기\n",
    "X_train = sequence.pad_sequences(X_train, maxlen=100)\n",
    "X_test = sequence.pad_sequences(X_test, maxlen=100)"
   ]
  },
  {
   "cell_type": "code",
   "execution_count": 7,
   "id": "cfa9e437",
   "metadata": {},
   "outputs": [],
   "source": [
    "#원-핫 인코딩 처리\n",
    "y_train = to_categorical(y_train)\n",
    "y_test = to_categorical(y_test)"
   ]
  },
  {
   "cell_type": "code",
   "execution_count": 8,
   "id": "380112a5",
   "metadata": {},
   "outputs": [],
   "source": [
    "model = Sequential()\n",
    "model.add(Embedding(1000,100))\n",
    "model.add(LSTM(100, activation='tanh'))\n",
    "model.add(Dense(46, activation='softmax'))"
   ]
  },
  {
   "cell_type": "code",
   "execution_count": 9,
   "id": "0dfc0c91",
   "metadata": {},
   "outputs": [],
   "source": [
    "model.compile(loss='categorical_crossentropy', optimizer='adam', metrics=['accuracy'])"
   ]
  },
  {
   "cell_type": "code",
   "execution_count": 10,
   "id": "1dc2dbaa",
   "metadata": {},
   "outputs": [],
   "source": [
    "early_stopping_callback = EarlyStopping(monitor='val_loss', patience=5)"
   ]
  },
  {
   "cell_type": "code",
   "execution_count": 11,
   "id": "1b34e341",
   "metadata": {
    "scrolled": true
   },
   "outputs": [
    {
     "name": "stdout",
     "output_type": "stream",
     "text": [
      "Epoch 1/200\n",
      "450/450 [==============================] - 46s 94ms/step - loss: 2.1534 - accuracy: 0.4459 - val_loss: 2.2306 - val_accuracy: 0.3736\n",
      "Epoch 2/200\n",
      "450/450 [==============================] - 42s 93ms/step - loss: 1.7590 - accuracy: 0.5376 - val_loss: 1.6877 - val_accuracy: 0.5650\n",
      "Epoch 3/200\n",
      "450/450 [==============================] - 47s 105ms/step - loss: 1.6363 - accuracy: 0.5788 - val_loss: 1.7433 - val_accuracy: 0.5485\n",
      "Epoch 4/200\n",
      "450/450 [==============================] - 47s 104ms/step - loss: 1.5539 - accuracy: 0.6057 - val_loss: 1.5527 - val_accuracy: 0.6167\n",
      "Epoch 5/200\n",
      "450/450 [==============================] - 47s 104ms/step - loss: 1.3797 - accuracy: 0.6444 - val_loss: 1.4139 - val_accuracy: 0.6313\n",
      "Epoch 6/200\n",
      "450/450 [==============================] - 47s 104ms/step - loss: 1.2534 - accuracy: 0.6830 - val_loss: 1.3143 - val_accuracy: 0.6683\n",
      "Epoch 7/200\n",
      "450/450 [==============================] - 50s 111ms/step - loss: 1.1528 - accuracy: 0.7065 - val_loss: 1.2734 - val_accuracy: 0.6692\n",
      "Epoch 8/200\n",
      "450/450 [==============================] - 51s 114ms/step - loss: 1.0691 - accuracy: 0.7228 - val_loss: 1.2180 - val_accuracy: 0.6955\n",
      "Epoch 9/200\n",
      "450/450 [==============================] - 52s 115ms/step - loss: 0.9779 - accuracy: 0.7511 - val_loss: 1.1636 - val_accuracy: 0.7039\n",
      "Epoch 10/200\n",
      "450/450 [==============================] - 51s 114ms/step - loss: 0.9030 - accuracy: 0.7650 - val_loss: 1.1677 - val_accuracy: 0.7088\n",
      "Epoch 11/200\n",
      "450/450 [==============================] - 52s 115ms/step - loss: 0.8375 - accuracy: 0.7859 - val_loss: 1.1531 - val_accuracy: 0.7159\n",
      "Epoch 12/200\n",
      "450/450 [==============================] - 52s 115ms/step - loss: 0.7792 - accuracy: 0.7987 - val_loss: 1.1282 - val_accuracy: 0.7275\n",
      "Epoch 13/200\n",
      "450/450 [==============================] - 52s 115ms/step - loss: 0.7201 - accuracy: 0.8147 - val_loss: 1.1637 - val_accuracy: 0.7213\n",
      "Epoch 14/200\n",
      "450/450 [==============================] - 52s 115ms/step - loss: 0.6665 - accuracy: 0.8275 - val_loss: 1.2033 - val_accuracy: 0.7235\n",
      "Epoch 15/200\n",
      "450/450 [==============================] - 52s 116ms/step - loss: 0.6241 - accuracy: 0.8413 - val_loss: 1.1778 - val_accuracy: 0.7262\n",
      "Epoch 16/200\n",
      "450/450 [==============================] - 53s 117ms/step - loss: 0.5676 - accuracy: 0.8546 - val_loss: 1.2398 - val_accuracy: 0.7275\n",
      "Epoch 17/200\n",
      "450/450 [==============================] - 55s 123ms/step - loss: 0.5335 - accuracy: 0.8631 - val_loss: 1.2218 - val_accuracy: 0.7293\n"
     ]
    }
   ],
   "source": [
    "history = model.fit(X_train, y_train, batch_size=20, epochs=200, validation_data=(X_test, y_test), callbacks=[early_stopping_callback])"
   ]
  },
  {
   "cell_type": "code",
   "execution_count": 12,
   "id": "aef162f4",
   "metadata": {},
   "outputs": [
    {
     "name": "stdout",
     "output_type": "stream",
     "text": [
      "71/71 [==============================] - 3s 39ms/step - loss: 1.2218 - accuracy: 0.7293\n",
      "\n",
      " Test Accuracy: 0.7293\n"
     ]
    }
   ],
   "source": [
    "print(\"\\n Test Accuracy: %.4f\" % (model.evaluate(X_test, y_test)[1]))"
   ]
  },
  {
   "cell_type": "code",
   "execution_count": 13,
   "id": "376fce0c",
   "metadata": {},
   "outputs": [],
   "source": [
    "y_vloss=history.history['val_loss']\n",
    "y_loss=history.history['loss']"
   ]
  },
  {
   "cell_type": "code",
   "execution_count": 17,
   "id": "5598f919",
   "metadata": {},
   "outputs": [
    {
     "data": {
      "image/png": "[encoded data removed]",
      "text/plain": [
       "<Figure size 432x288 with 1 Axes>"
      ]
     },
     "metadata": {
      "needs_background": "light"
     },
     "output_type": "display_data"
    }
   ],
   "source": [
    "#그래프\n",
    "x_len=np.arange(len(y_loss))\n",
    "plt.plot(x_len, y_vloss, marker='.', c=\"red\", label='Testset_loss')\n",
    "plt.plot(x_len, y_loss, marker='.', c=\"blue\", label='Trainset_loss')\n",
    "plt.legend(loc='upper right')\n",
    "plt.grid()\n",
    "plt.xlabel('epoch')\n",
    "plt.ylabel('loss')\n",
    "plt.show()"
   ]
  },
  {
   "cell_type": "code",
   "execution_count": null,
   "id": "316e2f78",
   "metadata": {},
   "outputs": [],
   "source": []
  }
 ],
 "metadata": {
  "kernelspec": {
   "display_name": "Python 3",
   "language": "python",
   "name": "python3"
  },
  "language_info": {
   "codemirror_mode": {
    "name": "ipython",
    "version": 3
   },
   "file_extension": ".py",
   "mimetype": "text/x-python",
   "name": "python",
   "nbconvert_exporter": "python",
   "pygments_lexer": "ipython3",
   "version": "3.8.8"
  }
 },
 "nbformat": 4,
 "nbformat_minor": 5
}
