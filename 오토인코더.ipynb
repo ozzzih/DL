{
 "cells": [
  {
   "cell_type": "code",
   "execution_count": 2,
   "id": "7f1e9567",
   "metadata": {},
   "outputs": [],
   "source": [
    "from tensorflow.keras.datasets import mnist\n",
    "from tensorflow.keras.models import Sequential, Model\n",
    "from tensorflow.keras.layers import Input, Dense, Conv2D, MaxPooling2D, UpSampling2D, Flatten, Reshape"
   ]
  },
  {
   "cell_type": "code",
   "execution_count": 3,
   "id": "5f79c01c",
   "metadata": {},
   "outputs": [],
   "source": [
    "import matplotlib.pyplot as plt\n",
    "import numpy as np"
   ]
  },
  {
   "cell_type": "code",
   "execution_count": 4,
   "id": "d0efb6f4",
   "metadata": {},
   "outputs": [],
   "source": [
    "(X_train, _), (X_test, _) = mnist.load_data()\n",
    "X_train = X_train.reshape(X_train.shape[0],28,28,1).astype('float32')/255\n",
    "X_test = X_test.reshape(X_test.shape[0],28,28,1).astype('float32')/255"
   ]
  },
  {
   "cell_type": "code",
   "execution_count": 7,
   "id": "5e8f6ecb",
   "metadata": {},
   "outputs": [],
   "source": [
    "#인코딩\n",
    "autoencoder = Sequential()\n",
    "autoencoder.add(Conv2D(16, kernel_size=3, padding='same', input_shape=(28,28,1), activation='relu'))\n",
    "autoencoder.add(MaxPooling2D(pool_size=2, padding='same'))\n",
    "autoencoder.add(Conv2D(8, kernel_size=3, activation='relu', padding='same'))\n",
    "autoencoder.add(MaxPooling2D(pool_size=2, padding='same'))\n",
    "autoencoder.add(Conv2D(8, kernel_size=3, strides=2, padding='same', activation='relu'))"
   ]
  },
  {
   "cell_type": "code",
   "execution_count": 8,
   "id": "2db6a38c",
   "metadata": {},
   "outputs": [],
   "source": [
    "#디코딩\n",
    "autoencoder.add(Conv2D(8, kernel_size=3, padding='same', activation='relu'))\n",
    "autoencoder.add(UpSampling2D())\n",
    "autoencoder.add(Conv2D(8, kernel_size=3, padding='same', activation='relu'))\n",
    "autoencoder.add(UpSampling2D())\n",
    "autoencoder.add(Conv2D(16, kernel_size=3, activation='relu'))\n",
    "autoencoder.add(UpSampling2D())\n",
    "autoencoder.add(Conv2D(1, kernel_size=3, padding='same', activation='sigmoid'))"
   ]
  },
  {
   "cell_type": "code",
   "execution_count": 11,
   "id": "4e7b1d6d",
   "metadata": {
    "scrolled": true
   },
   "outputs": [
    {
     "name": "stdout",
     "output_type": "stream",
     "text": [
      "Epoch 1/50\n",
      "469/469 [==============================] - 80s 168ms/step - loss: 0.2005 - val_loss: 0.1334\n",
      "Epoch 2/50\n",
      "469/469 [==============================] - 81s 173ms/step - loss: 0.1239 - val_loss: 0.1159\n",
      "Epoch 3/50\n",
      "469/469 [==============================] - 86s 183ms/step - loss: 0.1126 - val_loss: 0.1081\n",
      "Epoch 4/50\n",
      "469/469 [==============================] - 92s 196ms/step - loss: 0.1074 - val_loss: 0.1043\n",
      "Epoch 5/50\n",
      "469/469 [==============================] - 96s 204ms/step - loss: 0.1038 - val_loss: 0.1011\n",
      "Epoch 6/50\n",
      "469/469 [==============================] - 97s 207ms/step - loss: 0.1011 - val_loss: 0.0987\n",
      "Epoch 7/50\n",
      "469/469 [==============================] - 93s 199ms/step - loss: 0.0991 - val_loss: 0.0970\n",
      "Epoch 8/50\n",
      "469/469 [==============================] - 93s 199ms/step - loss: 0.0974 - val_loss: 0.0955\n",
      "Epoch 9/50\n",
      "469/469 [==============================] - 93s 199ms/step - loss: 0.0961 - val_loss: 0.0942\n",
      "Epoch 10/50\n",
      "469/469 [==============================] - 94s 200ms/step - loss: 0.0950 - val_loss: 0.0933\n",
      "Epoch 11/50\n",
      "469/469 [==============================] - 100s 213ms/step - loss: 0.0940 - val_loss: 0.0925\n",
      "Epoch 12/50\n",
      "469/469 [==============================] - 94s 201ms/step - loss: 0.0932 - val_loss: 0.0915\n",
      "Epoch 13/50\n",
      "469/469 [==============================] - 94s 200ms/step - loss: 0.0925 - val_loss: 0.0909\n",
      "Epoch 14/50\n",
      "469/469 [==============================] - 95s 203ms/step - loss: 0.0918 - val_loss: 0.0901\n",
      "Epoch 15/50\n",
      "469/469 [==============================] - 96s 204ms/step - loss: 0.0913 - val_loss: 0.0896\n",
      "Epoch 16/50\n",
      "469/469 [==============================] - 94s 200ms/step - loss: 0.0907 - val_loss: 0.0891\n",
      "Epoch 17/50\n",
      "469/469 [==============================] - 101s 216ms/step - loss: 0.0902 - val_loss: 0.0887\n",
      "Epoch 18/50\n",
      "469/469 [==============================] - 97s 206ms/step - loss: 0.0897 - val_loss: 0.0883\n",
      "Epoch 19/50\n",
      "469/469 [==============================] - 95s 203ms/step - loss: 0.0892 - val_loss: 0.0877\n",
      "Epoch 20/50\n",
      "469/469 [==============================] - 94s 201ms/step - loss: 0.0888 - val_loss: 0.0877\n",
      "Epoch 21/50\n",
      "469/469 [==============================] - 93s 199ms/step - loss: 0.0885 - val_loss: 0.0870\n",
      "Epoch 22/50\n",
      "469/469 [==============================] - 95s 203ms/step - loss: 0.0881 - val_loss: 0.0868\n",
      "Epoch 23/50\n",
      "469/469 [==============================] - 98s 210ms/step - loss: 0.0878 - val_loss: 0.0865\n",
      "Epoch 24/50\n",
      "469/469 [==============================] - 101s 215ms/step - loss: 0.0875 - val_loss: 0.0863\n",
      "Epoch 25/50\n",
      "469/469 [==============================] - 99s 211ms/step - loss: 0.0873 - val_loss: 0.0859\n",
      "Epoch 26/50\n",
      "469/469 [==============================] - 96s 205ms/step - loss: 0.0870 - val_loss: 0.0857\n",
      "Epoch 27/50\n",
      "469/469 [==============================] - 98s 208ms/step - loss: 0.0868 - val_loss: 0.0856\n",
      "Epoch 28/50\n",
      "469/469 [==============================] - 95s 203ms/step - loss: 0.0866 - val_loss: 0.0854\n",
      "Epoch 29/50\n",
      "469/469 [==============================] - 98s 208ms/step - loss: 0.0864 - val_loss: 0.0851\n",
      "Epoch 30/50\n",
      "469/469 [==============================] - 100s 214ms/step - loss: 0.0862 - val_loss: 0.0850\n",
      "Epoch 31/50\n",
      "469/469 [==============================] - 99s 210ms/step - loss: 0.0860 - val_loss: 0.0848\n",
      "Epoch 32/50\n",
      "469/469 [==============================] - 95s 202ms/step - loss: 0.0859 - val_loss: 0.0850\n",
      "Epoch 33/50\n",
      "469/469 [==============================] - 95s 202ms/step - loss: 0.0857 - val_loss: 0.0849\n",
      "Epoch 34/50\n",
      "469/469 [==============================] - 83s 177ms/step - loss: 0.0855 - val_loss: 0.0843\n",
      "Epoch 35/50\n",
      "469/469 [==============================] - 83s 178ms/step - loss: 0.0853 - val_loss: 0.0842\n",
      "Epoch 36/50\n",
      "469/469 [==============================] - 85s 182ms/step - loss: 0.0853 - val_loss: 0.0840\n",
      "Epoch 37/50\n",
      "469/469 [==============================] - 85s 182ms/step - loss: 0.0851 - val_loss: 0.0839\n",
      "Epoch 38/50\n",
      "469/469 [==============================] - 82s 175ms/step - loss: 0.0850 - val_loss: 0.0839\n",
      "Epoch 39/50\n",
      "469/469 [==============================] - 82s 175ms/step - loss: 0.0848 - val_loss: 0.0835\n",
      "Epoch 40/50\n",
      "469/469 [==============================] - 81s 174ms/step - loss: 0.0846 - val_loss: 0.0833\n",
      "Epoch 41/50\n",
      "469/469 [==============================] - 81s 173ms/step - loss: 0.0844 - val_loss: 0.0832\n",
      "Epoch 42/50\n",
      "469/469 [==============================] - 81s 174ms/step - loss: 0.0842 - val_loss: 0.0834\n",
      "Epoch 43/50\n",
      "469/469 [==============================] - 81s 173ms/step - loss: 0.0841 - val_loss: 0.0832\n",
      "Epoch 44/50\n",
      "469/469 [==============================] - 85s 182ms/step - loss: 0.0839 - val_loss: 0.0827\n",
      "Epoch 45/50\n",
      "469/469 [==============================] - 81s 172ms/step - loss: 0.0838 - val_loss: 0.0828\n",
      "Epoch 46/50\n",
      "469/469 [==============================] - 81s 172ms/step - loss: 0.0837 - val_loss: 0.0826\n",
      "Epoch 47/50\n",
      "469/469 [==============================] - 81s 172ms/step - loss: 0.0837 - val_loss: 0.0824\n",
      "Epoch 48/50\n",
      "469/469 [==============================] - 81s 173ms/step - loss: 0.0835 - val_loss: 0.0824\n",
      "Epoch 49/50\n",
      "469/469 [==============================] - 81s 172ms/step - loss: 0.0834 - val_loss: 0.0827\n",
      "Epoch 50/50\n",
      "469/469 [==============================] - 81s 173ms/step - loss: 0.0833 - val_loss: 0.0821\n"
     ]
    },
    {
     "data": {
      "text/plain": [
       "<keras.callbacks.History at 0x1c00a92f2e0>"
      ]
     },
     "execution_count": 11,
     "metadata": {},
     "output_type": "execute_result"
    }
   ],
   "source": [
    "autoencoder.compile(optimizer='adam', loss='binary_crossentropy')\n",
    "autoencoder.fit(X_train, X_train, epochs=50, batch_size=128, validation_data=(X_test, X_test))"
   ]
  },
  {
   "cell_type": "code",
   "execution_count": 13,
   "id": "ddfb4959",
   "metadata": {},
   "outputs": [],
   "source": [
    "random_test = np.random.randint(X_test.shape[0], size=5)"
   ]
  },
  {
   "cell_type": "code",
   "execution_count": 14,
   "id": "a89fb93a",
   "metadata": {},
   "outputs": [
    {
     "name": "stdout",
     "output_type": "stream",
     "text": [
      "313/313 [==============================] - 6s 18ms/step\n"
     ]
    }
   ],
   "source": [
    "ae_imgs=autoencoder.predict(X_test)"
   ]
  },
  {
   "cell_type": "code",
   "execution_count": 15,
   "id": "91b533db",
   "metadata": {},
   "outputs": [
    {
     "data": {
      "text/plain": [
       "<Figure size 504x144 with 0 Axes>"
      ]
     },
     "execution_count": 15,
     "metadata": {},
     "output_type": "execute_result"
    },
    {
     "data": {
      "text/plain": [
       "<Figure size 504x144 with 0 Axes>"
      ]
     },
     "metadata": {},
     "output_type": "display_data"
    }
   ],
   "source": [
    "plt.figure(figsize=(7,2))"
   ]
  },
  {
   "cell_type": "code",
   "execution_count": 16,
   "id": "5161321e",
   "metadata": {},
   "outputs": [
    {
     "data": {
      "image/png": "[encoded data removed]",
      "text/plain": [
       "<Figure size 432x288 with 10 Axes>"
      ]
     },
     "metadata": {
      "needs_background": "light"
     },
     "output_type": "display_data"
    }
   ],
   "source": [
    "for i, image_idx in enumerate(random_test):\n",
    "    ax = plt.subplot(2,7,i+1)\n",
    "    plt.imshow(X_test[image_idx].reshape(28, 28))\n",
    "    ax.axis('off')\n",
    "    ax = plt.subplot(2,7,7+i+1)\n",
    "    plt.imshow(ae_imgs[image_idx].reshape(28, 28))\n",
    "    ax.axis('off')\n",
    "plt.show()"
   ]
  },
  {
   "cell_type": "code",
   "execution_count": null,
   "id": "8388fff2",
   "metadata": {},
   "outputs": [],
   "source": []
  }
 ],
 "metadata": {
  "kernelspec": {
   "display_name": "Python 3",
   "language": "python",
   "name": "python3"
  },
  "language_info": {
   "codemirror_mode": {
    "name": "ipython",
    "version": 3
   },
   "file_extension": ".py",
   "mimetype": "text/x-python",
   "name": "python",
   "nbconvert_exporter": "python",
   "pygments_lexer": "ipython3",
   "version": "3.8.8"
  }
 },
 "nbformat": 4,
 "nbformat_minor": 5
}
