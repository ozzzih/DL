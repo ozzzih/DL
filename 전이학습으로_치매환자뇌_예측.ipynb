{
 "cells": [
  {
   "cell_type": "code",
   "execution_count": 2,
   "id": "ff77acfc",
   "metadata": {},
   "outputs": [],
   "source": [
    "from tensorflow.keras.preprocessing.image import ImageDataGenerator\n",
    "from tensorflow.keras import Input, models, layers, optimizers, metrics\n",
    "from tensorflow.keras.layers import Dense, Flatten, Activation, Dropout\n",
    "from tensorflow.keras.applications import VGG16\n",
    "from tensorflow.keras.callbacks import EarlyStopping"
   ]
  },
  {
   "cell_type": "code",
   "execution_count": 3,
   "id": "82c38275",
   "metadata": {},
   "outputs": [],
   "source": [
    "import numpy as np\n",
    "import matplotlib.pyplot as plt"
   ]
  },
  {
   "cell_type": "code",
   "execution_count": 4,
   "id": "70a924d9",
   "metadata": {},
   "outputs": [
    {
     "name": "stderr",
     "output_type": "stream",
     "text": [
      "fatal: destination path 'data-ch20' already exists and is not an empty directory.\n"
     ]
    }
   ],
   "source": [
    "!git clone https://github.com/taehojo/data-ch20.git"
   ]
  },
  {
   "cell_type": "code",
   "execution_count": 5,
   "id": "a5e737ff",
   "metadata": {},
   "outputs": [],
   "source": [
    "train_datagen = ImageDataGenerator(rescale=1./255,\n",
    "                                   horizontal_flip=True,\n",
    "                                   width_shift_range=0.1,\n",
    "                                   height_shift_range=0.1)"
   ]
  },
  {
   "cell_type": "code",
   "execution_count": 6,
   "id": "801e50b3",
   "metadata": {},
   "outputs": [
    {
     "name": "stdout",
     "output_type": "stream",
     "text": [
      "Found 160 images belonging to 2 classes.\n"
     ]
    }
   ],
   "source": [
    "train_generator = train_datagen.flow_from_directory('./data-ch20/train', target_size=(150,150), batch_size=5, class_mode='binary')"
   ]
  },
  {
   "cell_type": "code",
   "execution_count": 7,
   "id": "2331514b",
   "metadata": {},
   "outputs": [],
   "source": [
    "test_datagen = ImageDataGenerator(rescale=1./255)"
   ]
  },
  {
   "cell_type": "code",
   "execution_count": 8,
   "id": "294d3838",
   "metadata": {},
   "outputs": [
    {
     "name": "stdout",
     "output_type": "stream",
     "text": [
      "Found 120 images belonging to 2 classes.\n"
     ]
    }
   ],
   "source": [
    "test_generator = test_datagen.flow_from_directory('./data-ch20/test', target_size=(150,150), batch_size=5, class_mode='binary')"
   ]
  },
  {
   "cell_type": "code",
   "execution_count": 9,
   "id": "9c1368b8",
   "metadata": {},
   "outputs": [],
   "source": [
    "#VGG16모델 불러오기\n",
    "transfer_model = VGG16(weights='imagenet', include_top=False, input_shape=(150, 150, 3))\n",
    "transfer_model.trainable = False"
   ]
  },
  {
   "cell_type": "code",
   "execution_count": 10,
   "id": "257553bf",
   "metadata": {},
   "outputs": [
    {
     "name": "stdout",
     "output_type": "stream",
     "text": [
      "Model: \"sequential\"\n",
      "_________________________________________________________________\n",
      " Layer (type)                Output Shape              Param #   \n",
      "=================================================================\n",
      " vgg16 (Functional)          (None, 4, 4, 512)         14714688  \n",
      "                                                                 \n",
      " flatten (Flatten)           (None, 8192)              0         \n",
      "                                                                 \n",
      " dense (Dense)               (None, 64)                524352    \n",
      "                                                                 \n",
      " activation (Activation)     (None, 64)                0         \n",
      "                                                                 \n",
      " dropout (Dropout)           (None, 64)                0         \n",
      "                                                                 \n",
      " dense_1 (Dense)             (None, 1)                 65        \n",
      "                                                                 \n",
      " activation_1 (Activation)   (None, 1)                 0         \n",
      "                                                                 \n",
      "=================================================================\n",
      "Total params: 15,239,105\n",
      "Trainable params: 524,417\n",
      "Non-trainable params: 14,714,688\n",
      "_________________________________________________________________\n"
     ]
    }
   ],
   "source": [
    "finetune_model = models.Sequential()\n",
    "finetune_model.add(transfer_model)\n",
    "finetune_model.add(Flatten())\n",
    "finetune_model.add(Dense(64))\n",
    "finetune_model.add(Activation('relu'))\n",
    "finetune_model.add(Dropout(0.5))\n",
    "finetune_model.add(Dense(1))\n",
    "finetune_model.add(Activation('sigmoid'))\n",
    "finetune_model.summary()"
   ]
  },
  {
   "cell_type": "code",
   "execution_count": 11,
   "id": "8fae029a",
   "metadata": {},
   "outputs": [],
   "source": [
    "finetune_model.compile(loss='binary_crossentropy', optimizer=optimizers.Adam(learning_rate=0.0002), metrics=['accuracy'])"
   ]
  },
  {
   "cell_type": "code",
   "execution_count": 12,
   "id": "be6bf651",
   "metadata": {},
   "outputs": [],
   "source": [
    "early_stopping_callback = EarlyStopping(monitor='val_loss', patience=5)"
   ]
  },
  {
   "cell_type": "code",
   "execution_count": 13,
   "id": "6646e4ac",
   "metadata": {
    "scrolled": true
   },
   "outputs": [
    {
     "name": "stdout",
     "output_type": "stream",
     "text": [
      "Epoch 1/20\n",
      "32/32 [==============================] - 35s 1s/step - loss: 0.7098 - accuracy: 0.6125 - val_loss: 0.5659 - val_accuracy: 0.7400\n",
      "Epoch 2/20\n",
      "32/32 [==============================] - 37s 1s/step - loss: 0.5447 - accuracy: 0.7312 - val_loss: 0.4575 - val_accuracy: 0.8200\n",
      "Epoch 3/20\n",
      "32/32 [==============================] - 38s 1s/step - loss: 0.4645 - accuracy: 0.8062 - val_loss: 0.4432 - val_accuracy: 0.8200\n",
      "Epoch 4/20\n",
      "32/32 [==============================] - 38s 1s/step - loss: 0.3727 - accuracy: 0.8813 - val_loss: 0.3539 - val_accuracy: 0.8800\n",
      "Epoch 5/20\n",
      "32/32 [==============================] - 39s 1s/step - loss: 0.3869 - accuracy: 0.8375 - val_loss: 0.3456 - val_accuracy: 0.8400\n",
      "Epoch 6/20\n",
      "32/32 [==============================] - 39s 1s/step - loss: 0.3498 - accuracy: 0.8938 - val_loss: 0.2514 - val_accuracy: 0.9400\n",
      "Epoch 7/20\n",
      "32/32 [==============================] - 41s 1s/step - loss: 0.3282 - accuracy: 0.8625 - val_loss: 0.3346 - val_accuracy: 0.8600\n",
      "Epoch 8/20\n",
      "32/32 [==============================] - 40s 1s/step - loss: 0.2775 - accuracy: 0.9125 - val_loss: 0.2189 - val_accuracy: 0.9400\n",
      "Epoch 9/20\n",
      "32/32 [==============================] - 41s 1s/step - loss: 0.2416 - accuracy: 0.9438 - val_loss: 0.2011 - val_accuracy: 0.9400\n",
      "Epoch 10/20\n",
      "32/32 [==============================] - 40s 1s/step - loss: 0.2434 - accuracy: 0.9375 - val_loss: 0.2061 - val_accuracy: 0.9400\n",
      "Epoch 11/20\n",
      "32/32 [==============================] - 40s 1s/step - loss: 0.2082 - accuracy: 0.9625 - val_loss: 0.2627 - val_accuracy: 0.8800\n",
      "Epoch 12/20\n",
      "32/32 [==============================] - 41s 1s/step - loss: 0.2107 - accuracy: 0.9375 - val_loss: 0.1586 - val_accuracy: 0.9800\n",
      "Epoch 13/20\n",
      "32/32 [==============================] - 41s 1s/step - loss: 0.2050 - accuracy: 0.9250 - val_loss: 0.1816 - val_accuracy: 0.9600\n",
      "Epoch 14/20\n",
      "32/32 [==============================] - 40s 1s/step - loss: 0.1730 - accuracy: 0.9750 - val_loss: 0.1079 - val_accuracy: 1.0000\n",
      "Epoch 15/20\n",
      "32/32 [==============================] - 40s 1s/step - loss: 0.1774 - accuracy: 0.9625 - val_loss: 0.1298 - val_accuracy: 0.9400\n",
      "Epoch 16/20\n",
      "32/32 [==============================] - 40s 1s/step - loss: 0.1703 - accuracy: 0.9563 - val_loss: 0.1954 - val_accuracy: 0.9200\n",
      "Epoch 17/20\n",
      "32/32 [==============================] - 40s 1s/step - loss: 0.1708 - accuracy: 0.9500 - val_loss: 0.1278 - val_accuracy: 0.9600\n",
      "Epoch 18/20\n",
      "32/32 [==============================] - 41s 1s/step - loss: 0.1479 - accuracy: 0.9688 - val_loss: 0.1559 - val_accuracy: 0.9600\n",
      "Epoch 19/20\n",
      "32/32 [==============================] - 41s 1s/step - loss: 0.1453 - accuracy: 0.9750 - val_loss: 0.1260 - val_accuracy: 0.9400\n"
     ]
    }
   ],
   "source": [
    "history = finetune_model.fit(train_generator, epochs=20, validation_data=test_generator,\n",
    "                             validation_steps=10, callbacks=[early_stopping_callback])"
   ]
  },
  {
   "cell_type": "code",
   "execution_count": 14,
   "id": "950ffaed",
   "metadata": {},
   "outputs": [],
   "source": [
    "y_vloss=history.history['val_loss']\n",
    "y_loss=history.history['loss']"
   ]
  },
  {
   "cell_type": "code",
   "execution_count": 16,
   "id": "332bac3a",
   "metadata": {},
   "outputs": [
    {
     "data": {
      "image/png": "[encoded data removed]",
      "text/plain": [
       "<Figure size 432x288 with 1 Axes>"
      ]
     },
     "metadata": {
      "needs_background": "light"
     },
     "output_type": "display_data"
    }
   ],
   "source": [
    "#그래프\n",
    "x_len = np.arange(len(y_loss))\n",
    "plt.plot(x_len, y_vloss, marker='.', c=\"red\", label='Testset_loss')\n",
    "plt.plot(x_len, y_loss, marker='.', c='blue', label='Trainset_loss')\n",
    "plt.legend(loc='upper right')\n",
    "plt.grid()\n",
    "plt.xlabel('epoch')\n",
    "plt.ylabel('loss')\n",
    "plt.show()"
   ]
  },
  {
   "cell_type": "code",
   "execution_count": null,
   "id": "21c6c6f8",
   "metadata": {},
   "outputs": [],
   "source": []
  }
 ],
 "metadata": {
  "kernelspec": {
   "display_name": "Python 3",
   "language": "python",
   "name": "python3"
  },
  "language_info": {
   "codemirror_mode": {
    "name": "ipython",
    "version": 3
   },
   "file_extension": ".py",
   "mimetype": "text/x-python",
   "name": "python",
   "nbconvert_exporter": "python",
   "pygments_lexer": "ipython3",
   "version": "3.8.8"
  }
 },
 "nbformat": 4,
 "nbformat_minor": 5
}
