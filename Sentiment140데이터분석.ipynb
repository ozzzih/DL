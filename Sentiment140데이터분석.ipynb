{
  "nbformat": 4,
  "nbformat_minor": 0,
  "metadata": {
    "colab": {
      "provenance": []
    },
    "kernelspec": {
      "name": "python3",
      "display_name": "Python 3"
    },
    "language_info": {
      "name": "python"
    }
  },
  "cells": [
    {
      "cell_type": "markdown",
      "source": [
        "기존에 제출했을 당시, 시간관계상 train data의 일부분을 사용하여 모델을 학습시켰습니다.  \n",
        "이에, train data전체를 학습시켜 정확도를 끌어올린 결과를 제출합니다."
      ],
      "metadata": {
        "id": "KRnsSl0gcy0f"
      }
    },
    {
      "cell_type": "markdown",
      "source": [
        "# ***Sentiment140 데이터 셋 감정분류 ***"
      ],
      "metadata": {
        "id": "V7yvJIsA8773"
      }
    },
    {
      "cell_type": "code",
      "execution_count": null,
      "metadata": {
        "id": "9TIlDTjkr7PG"
      },
      "outputs": [],
      "source": [
        "# 필요한 라이브러리\n",
        "import tensorflow as tf\n",
        "import tensorflow_datasets as tfds\n",
        "import os\n",
        "import numpy as np\n",
        "import matplotlib.pyplot as plt"
      ]
    },
    {
      "cell_type": "markdown",
      "source": [
        "## **1. 데이터 불러오기**"
      ],
      "metadata": {
        "id": "CCPjp0Jh9KsA"
      }
    },
    {
      "cell_type": "code",
      "source": [
        "(txt_train, label_train), (txt_test, label_test) = tfds.as_numpy(tfds.load(\n",
        "    'sentiment140',\n",
        "    split=['train[:80%]', 'train[80%:]'],\n",
        "    batch_size=-1,\n",
        "    as_supervised=True,\n",
        "))"
      ],
      "metadata": {
        "id": "DSwboHeMsCJb"
      },
      "execution_count": 86,
      "outputs": []
    },
    {
      "cell_type": "markdown",
      "source": [
        "### **데이터 크기**"
      ],
      "metadata": {
        "id": "dKdAqdxP9-Yz"
      }
    },
    {
      "cell_type": "code",
      "source": [
        "print(len(txt_train))\n",
        "print(len(txt_test))"
      ],
      "metadata": {
        "colab": {
          "base_uri": "https://localhost:8080/",
          "height": 0
        },
        "id": "bSwH1t8htJtm",
        "outputId": "65c78c78-105d-4d08-b496-34607bd2430b"
      },
      "execution_count": 87,
      "outputs": [
        {
          "output_type": "stream",
          "name": "stdout",
          "text": [
            "1280000\n",
            "320000\n"
          ]
        }
      ]
    },
    {
      "cell_type": "markdown",
      "source": [
        "## **2. 데이터 전처리**"
      ],
      "metadata": {
        "id": "QMXebT_N-F3-"
      }
    },
    {
      "cell_type": "code",
      "source": [
        "from collections import Counter\n",
        "cnt = Counter(label_train)\n",
        "print('배열 내 각 원소를 세는 카운터 :', cnt)"
      ],
      "metadata": {
        "colab": {
          "base_uri": "https://localhost:8080/",
          "height": 0
        },
        "id": "WFcz_hHV-EQd",
        "outputId": "24a988e3-22fb-4a40-ab41-d6b7cd1e5678"
      },
      "execution_count": 88,
      "outputs": [
        {
          "output_type": "stream",
          "name": "stdout",
          "text": [
            "배열 내 각 원소를 세는 카운터 : Counter({4: 640294, 0: 639706})\n"
          ]
        }
      ]
    },
    {
      "cell_type": "markdown",
      "source": [
        "target변수가 0 또는 4로 분포  \n",
        "=> 0 또는 1로 분포하도록 바꿔줌"
      ],
      "metadata": {
        "id": "aqYVwSn7-Jj_"
      }
    },
    {
      "cell_type": "code",
      "source": [
        "label_train[label_train==4]=1"
      ],
      "metadata": {
        "id": "4SFV-cot2s_G"
      },
      "execution_count": 89,
      "outputs": []
    },
    {
      "cell_type": "code",
      "source": [
        "from collections import Counter\n",
        "cnt = Counter(label_train)\n",
        "print('배열 내 각 원소를 세는 카운터 :', cnt)"
      ],
      "metadata": {
        "colab": {
          "base_uri": "https://localhost:8080/",
          "height": 0
        },
        "id": "Uv35Mrcd1RPt",
        "outputId": "9d6d20cc-2b4b-4eb5-d96b-a9b9ba1bd104"
      },
      "execution_count": 90,
      "outputs": [
        {
          "output_type": "stream",
          "name": "stdout",
          "text": [
            "배열 내 각 원소를 세는 카운터 : Counter({1: 640294, 0: 639706})\n"
          ]
        }
      ]
    },
    {
      "cell_type": "markdown",
      "source": [
        "### **영어 문장 정제**\n"
      ],
      "metadata": {
        "id": "kX_4-aS_-kbQ"
      }
    },
    {
      "cell_type": "code",
      "source": [
        "import re\n",
        "import re\n",
        "\n",
        "\n",
        "def clean_str(string):\n",
        "    string = re.sub(r\"[^A-Za-z0-9(),!?\\'\\`]\", \" \", string.decode('utf-8')) #영문자, 숫자 외의 문자를 제거하고 'utf-8'형식으로 디코드\n",
        "    string = re.sub(r\"\\'s\", \" \\'s\", string)\n",
        "    string = re.sub(r\"\\'ve\", \" \\'ve\", string)\n",
        "    string = re.sub(r\"n\\'t\", \" n\\'t\", string)\n",
        "    string = re.sub(r\"\\'re\", \" \\'re\", string)\n",
        "    string = re.sub(r\"\\'d\", \" \\'d\", string)\n",
        "    string = re.sub(r\"\\'ll\", \" \\'ll\", string)\n",
        "    string = re.sub(r\",\", \" , \", string)\n",
        "    string = re.sub(r\"!\", \" ! \", string)\n",
        "    string = re.sub(r\"\\(\", \" \\( \", string)\n",
        "    string = re.sub(r\"\\)\", \" \\) \", string)\n",
        "    string = re.sub(r\"\\?\", \" \\? \", string)\n",
        "    string = re.sub(r\"\\s{2,}\", \" \", string)\n",
        "    string = re.sub(r\"\\'{2,}\", \"\\'\", string)\n",
        "    string = re.sub(r\"\\'\", \"\", string)\n",
        "\n",
        "    return string.lower()"
      ],
      "metadata": {
        "id": "O9dxrq8qu7a8"
      },
      "execution_count": null,
      "outputs": []
    },
    {
      "cell_type": "code",
      "source": [
        "txt_train = [clean_str(sentence) for sentence in txt_train]"
      ],
      "metadata": {
        "id": "on42LYPkvk5U"
      },
      "execution_count": 91,
      "outputs": []
    },
    {
      "cell_type": "code",
      "source": [
        "txt_train[:5]"
      ],
      "metadata": {
        "colab": {
          "base_uri": "https://localhost:8080/",
          "height": 0
        },
        "id": "ppfPIchawAFH",
        "outputId": "581fff97-2128-473d-fa11-20e7a051d840"
      },
      "execution_count": 92,
      "outputs": [
        {
          "output_type": "execute_result",
          "data": {
            "text/plain": [
              "['im 10x cooler than all of you ! ',\n",
              " 'o kk \\\\? thats weird i cant stop following people on twitter i have tons of people to unfollow ',\n",
              " 'what a beautiful day not to got to my first class ',\n",
              " ' hildygottlieb amp i was just saying to mahaal yesterday , everything we ever needed to know was in beatles lyrics you prove my point ! ',\n",
              " 'kinda sad and confused why do guys do this \\\\? ']"
            ]
          },
          "metadata": {},
          "execution_count": 92
        }
      ]
    },
    {
      "cell_type": "code",
      "source": [
        "from nltk.tokenize import word_tokenize\n",
        "from nltk.tokenize import WordPunctTokenizer\n",
        "from nltk.tokenize import TreebankWordTokenizer\n",
        "from tensorflow.keras.preprocessing.text import text_to_word_sequence"
      ],
      "metadata": {
        "id": "Eh2j0l-gwQMA"
      },
      "execution_count": null,
      "outputs": []
    },
    {
      "cell_type": "code",
      "source": [
        "txt_train = [TreebankWordTokenizer().tokenize(sentence) for sentence in txt_train]"
      ],
      "metadata": {
        "id": "MGf3d2AHwQ6w"
      },
      "execution_count": 93,
      "outputs": []
    },
    {
      "cell_type": "code",
      "source": [
        "txt_train[:5]"
      ],
      "metadata": {
        "colab": {
          "base_uri": "https://localhost:8080/",
          "height": 0
        },
        "id": "JeVu4tyDwT5l",
        "outputId": "ed88b287-02a5-4d7e-e303-f2a5aee5f408"
      },
      "execution_count": 94,
      "outputs": [
        {
          "output_type": "execute_result",
          "data": {
            "text/plain": [
              "[['im', '10x', 'cooler', 'than', 'all', 'of', 'you', '!'],\n",
              " ['o',\n",
              "  'kk',\n",
              "  '\\\\',\n",
              "  '?',\n",
              "  'thats',\n",
              "  'weird',\n",
              "  'i',\n",
              "  'cant',\n",
              "  'stop',\n",
              "  'following',\n",
              "  'people',\n",
              "  'on',\n",
              "  'twitter',\n",
              "  'i',\n",
              "  'have',\n",
              "  'tons',\n",
              "  'of',\n",
              "  'people',\n",
              "  'to',\n",
              "  'unfollow'],\n",
              " ['what',\n",
              "  'a',\n",
              "  'beautiful',\n",
              "  'day',\n",
              "  'not',\n",
              "  'to',\n",
              "  'got',\n",
              "  'to',\n",
              "  'my',\n",
              "  'first',\n",
              "  'class'],\n",
              " ['hildygottlieb',\n",
              "  'amp',\n",
              "  'i',\n",
              "  'was',\n",
              "  'just',\n",
              "  'saying',\n",
              "  'to',\n",
              "  'mahaal',\n",
              "  'yesterday',\n",
              "  ',',\n",
              "  'everything',\n",
              "  'we',\n",
              "  'ever',\n",
              "  'needed',\n",
              "  'to',\n",
              "  'know',\n",
              "  'was',\n",
              "  'in',\n",
              "  'beatles',\n",
              "  'lyrics',\n",
              "  'you',\n",
              "  'prove',\n",
              "  'my',\n",
              "  'point',\n",
              "  '!'],\n",
              " ['kinda',\n",
              "  'sad',\n",
              "  'and',\n",
              "  'confused',\n",
              "  'why',\n",
              "  'do',\n",
              "  'guys',\n",
              "  'do',\n",
              "  'this',\n",
              "  '\\\\',\n",
              "  '?']]"
            ]
          },
          "metadata": {},
          "execution_count": 94
        }
      ]
    },
    {
      "cell_type": "code",
      "source": [
        "# 각 문장의 단어 길이 확인\n",
        "import matplotlib.pyplot as plt\n",
        "sentence_len = [len(sentence) for sentence in txt_train]\n",
        "sentence_len.sort()\n",
        "plt.plot(sentence_len)\n",
        "plt.show()\n",
        "\n",
        "print(sum([int(l<=40) for l in sentence_len]))"
      ],
      "metadata": {
        "colab": {
          "base_uri": "https://localhost:8080/",
          "height": 296
        },
        "id": "8NEwIkGdw6Bh",
        "outputId": "dbcb6aa9-181a-4960-c6c5-f1157df196f2"
      },
      "execution_count": 95,
      "outputs": [
        {
          "output_type": "display_data",
          "data": {
            "text/plain": [
              "<Figure size 432x288 with 1 Axes>"
            ],
            "image/png": "[encoded data removed]"
          },
          "metadata": {
            "needs_background": "light"
          }
        },
        {
          "output_type": "stream",
          "name": "stdout",
          "text": [
            "1278856\n"
          ]
        }
      ]
    },
    {
      "cell_type": "markdown",
      "source": [
        "1280000개 중 1278856개의 문장의 단어 개수가 40개 이하임.  \n",
        "따라서 기준이 되는 문장의 길이를 40 단어로 잡고 이 이상은 생략, 이 이하는 패딩으로 길이를 40으로 맞춰줌"
      ],
      "metadata": {
        "id": "_HnLhYg1xbbH"
      }
    },
    {
      "cell_type": "code",
      "source": [
        "sentences_new = []\n",
        "for sentence in txt_train:\n",
        "    sentences_new.append([word for word in sentence][:40])\n",
        "txt_train = sentences_new\n",
        "for i in range(5):\n",
        "    print(txt_train[i])"
      ],
      "metadata": {
        "colab": {
          "base_uri": "https://localhost:8080/",
          "height": 0
        },
        "id": "HQ2in4QwxnbR",
        "outputId": "a0c328fd-1ff9-49f5-fa54-8ebc97c547d5"
      },
      "execution_count": 97,
      "outputs": [
        {
          "output_type": "stream",
          "name": "stdout",
          "text": [
            "['im', '10x', 'cooler', 'than', 'all', 'of', 'you', '!']\n",
            "['o', 'kk', '\\\\', '?', 'thats', 'weird', 'i', 'cant', 'stop', 'following', 'people', 'on', 'twitter', 'i', 'have', 'tons', 'of', 'people', 'to', 'unfollow']\n",
            "['what', 'a', 'beautiful', 'day', 'not', 'to', 'got', 'to', 'my', 'first', 'class']\n",
            "['hildygottlieb', 'amp', 'i', 'was', 'just', 'saying', 'to', 'mahaal', 'yesterday', ',', 'everything', 'we', 'ever', 'needed', 'to', 'know', 'was', 'in', 'beatles', 'lyrics', 'you', 'prove', 'my', 'point', '!']\n",
            "['kinda', 'sad', 'and', 'confused', 'why', 'do', 'guys', 'do', 'this', '\\\\', '?']\n"
          ]
        }
      ]
    },
    {
      "cell_type": "code",
      "source": [
        "#Tokenizer와 pad_sequences를 사용한 문장 전처리(패딩작업)\n",
        "from tensorflow.keras.preprocessing.text import Tokenizer\n",
        "from tensorflow.keras.preprocessing.sequence import pad_sequences\n",
        "\n",
        "tokenizer = Tokenizer(num_words=30000) #상위 29999개 단어만 사용\n",
        "tokenizer.fit_on_texts(txt_train)\n",
        "train_X = tokenizer.texts_to_sequences(txt_train)\n",
        "train_X = pad_sequences(train_X, padding='post')\n",
        "\n",
        "print(train_X[:5])"
      ],
      "metadata": {
        "colab": {
          "base_uri": "https://localhost:8080/",
          "height": 0
        },
        "id": "Qq8RoAwMybS5",
        "outputId": "ebcef830-656b-4b84-d131-97a9010cfa21"
      },
      "execution_count": 98,
      "outputs": [
        {
          "output_type": "stream",
          "name": "stdout",
          "text": [
            "[[   18 12159  3272   215    38    17    11     1     0     0     0     0\n",
            "      0     0     0     0     0     0     0     0     0     0     0     0\n",
            "      0     0     0     0     0     0     0     0     0     0     0     0\n",
            "      0     0     0     0]\n",
            " [  308  4687     7    13   306   668     2   175   354   438   156    20\n",
            "    112     2    23  1977    17   156     3  3449     0     0     0     0\n",
            "      0     0     0     0     0     0     0     0     0     0     0     0\n",
            "      0     0     0     0]\n",
            " [   55     6   341    37    31     3    47     3     8   182   445     0\n",
            "      0     0     0     0     0     0     0     0     0     0     0     0\n",
            "      0     0     0     0     0     0     0     0     0     0     0     0\n",
            "      0     0     0     0]\n",
            " [   69     2    32    26   737     3   311     5   386    54   238   931\n",
            "      3    64    32    14  4159  2671    11  5028     8   811     1     0\n",
            "      0     0     0     0     0     0     0     0     0     0     0     0\n",
            "      0     0     0     0]\n",
            " [  450   122    10  1229   124    27   218    27    33     7    13     0\n",
            "      0     0     0     0     0     0     0     0     0     0     0     0\n",
            "      0     0     0     0     0     0     0     0     0     0     0     0\n",
            "      0     0     0     0]]\n"
          ]
        }
      ]
    },
    {
      "cell_type": "code",
      "source": [
        "print(tokenizer.index_word[30000]) #빈도 30000번째 단어 확인\n",
        "# 30000위 단어는 인덱스로 반환되지 않음"
      ],
      "metadata": {
        "colab": {
          "base_uri": "https://localhost:8080/",
          "height": 0
        },
        "id": "4QDWlO20yqpC",
        "outputId": "1e066f9a-d817-4cca-cf62-2a6d3d0a772f"
      },
      "execution_count": 99,
      "outputs": [
        {
          "output_type": "stream",
          "name": "stdout",
          "text": [
            "kkk\n"
          ]
        }
      ]
    },
    {
      "cell_type": "markdown",
      "source": [
        "## **3. 모델 정의**"
      ],
      "metadata": {
        "id": "KlwhWIi1_Dxq"
      }
    },
    {
      "cell_type": "code",
      "source": [
        "#감성 분석을 위한 모델 정의\n",
        "model = tf.keras.Sequential([\n",
        "    tf.keras.layers.Embedding(30000, 100, input_length=40),\n",
        "    tf.keras.layers.LSTM(units=30),\n",
        "    tf.keras.layers.Dense(2, activation='softmax')\n",
        "])\n",
        "\n",
        "model.compile(optimizer='adam', loss='sparse_categorical_crossentropy', metrics=['accuracy'])\n",
        "model.summary()"
      ],
      "metadata": {
        "colab": {
          "base_uri": "https://localhost:8080/",
          "height": 0
        },
        "id": "bLgL3TTdzGkV",
        "outputId": "f581b70c-456f-4397-98e1-9cdc8775838e"
      },
      "execution_count": 100,
      "outputs": [
        {
          "output_type": "stream",
          "name": "stdout",
          "text": [
            "Model: \"sequential_12\"\n",
            "_________________________________________________________________\n",
            " Layer (type)                Output Shape              Param #   \n",
            "=================================================================\n",
            " embedding_12 (Embedding)    (None, 40, 100)           3000000   \n",
            "                                                                 \n",
            " lstm_12 (LSTM)              (None, 30)                15720     \n",
            "                                                                 \n",
            " dense_12 (Dense)            (None, 2)                 62        \n",
            "                                                                 \n",
            "=================================================================\n",
            "Total params: 3,015,782\n",
            "Trainable params: 3,015,782\n",
            "Non-trainable params: 0\n",
            "_________________________________________________________________\n"
          ]
        }
      ]
    },
    {
      "cell_type": "markdown",
      "source": [
        "### **모델 학습**"
      ],
      "metadata": {
        "id": "fJlXFmez_OGP"
      }
    },
    {
      "cell_type": "code",
      "source": [
        "hitory=model.fit(train_X, label_train, epochs=5, batch_size=512, validation_split=0.2)"
      ],
      "metadata": {
        "colab": {
          "base_uri": "https://localhost:8080/",
          "height": 0
        },
        "id": "xbSOTzp80RGH",
        "outputId": "263fe76a-3f8c-462a-92f9-6080d9c78589"
      },
      "execution_count": 101,
      "outputs": [
        {
          "output_type": "stream",
          "name": "stdout",
          "text": [
            "Epoch 1/5\n",
            "2000/2000 [==============================] - 386s 192ms/step - loss: 0.4358 - accuracy: 0.7934 - val_loss: 0.3979 - val_accuracy: 0.8185\n",
            "Epoch 2/5\n",
            "2000/2000 [==============================] - 377s 189ms/step - loss: 0.3782 - accuracy: 0.8300 - val_loss: 0.3895 - val_accuracy: 0.8244\n",
            "Epoch 3/5\n",
            "2000/2000 [==============================] - 382s 191ms/step - loss: 0.3556 - accuracy: 0.8415 - val_loss: 0.3898 - val_accuracy: 0.8252\n",
            "Epoch 4/5\n",
            "2000/2000 [==============================] - 378s 189ms/step - loss: 0.3337 - accuracy: 0.8528 - val_loss: 0.3953 - val_accuracy: 0.8236\n",
            "Epoch 5/5\n",
            "2000/2000 [==============================] - 375s 188ms/step - loss: 0.3104 - accuracy: 0.8641 - val_loss: 0.4243 - val_accuracy: 0.8231\n"
          ]
        }
      ]
    },
    {
      "cell_type": "code",
      "source": [
        "# 감성 분석 모델 학습 결과 확인\n",
        "import matplotlib.pyplot as plt\n",
        "plt.figure(figsize=(12, 4))\n",
        "\n",
        "plt.subplot(1, 2, 1)\n",
        "plt.plot(hitory.history['loss'], 'b-', label='loss')\n",
        "plt.plot(hitory.history['val_loss'], 'r--', label='val_loss')\n",
        "plt.xlabel('Epoch')\n",
        "plt.legend()\n",
        "\n",
        "plt.subplot(1, 2, 2)\n",
        "plt.plot(hitory.history['accuracy'], 'g-', label='accuracy')\n",
        "plt.plot(hitory.history['val_accuracy'], 'k--', label='val_accuracy')\n",
        "plt.xlabel('Epoch')\n",
        "plt.ylim(0.5, 1.0)\n",
        "plt.legend()\n",
        "\n",
        "plt.show()"
      ],
      "metadata": {
        "colab": {
          "base_uri": "https://localhost:8080/",
          "height": 252
        },
        "id": "A5KchVfA5nSq",
        "outputId": "b295a71a-3f19-4787-a527-8cffb3fd2466"
      },
      "execution_count": 102,
      "outputs": [
        {
          "output_type": "display_data",
          "data": {
            "text/plain": [
              "<Figure size 864x288 with 2 Axes>"
            ],
            "image/png": "[encoded data removed]"
          },
          "metadata": {
            "needs_background": "light"
          }
        }
      ]
    },
    {
      "cell_type": "code",
      "source": [
        "# 7.30 테스트 데이터 평가\n",
        "txt_test = [clean_str(sentence) for sentence in txt_test]\n",
        "txt_test = [TreebankWordTokenizer().tokenize(sentence) for sentence in txt_test]\n",
        "sentences_new = []\n",
        "for sentence in txt_test:\n",
        "    sentences_new.append([word for word in sentence][:40])\n",
        "sentences = sentences_new\n",
        "\n",
        "test_X = tokenizer.texts_to_sequences(sentences)\n",
        "test_X = pad_sequences(test_X, padding='post')\n",
        "label_test[label_test==4]=1\n",
        "model.evaluate(test_X, label_test, verbose=0)"
      ],
      "metadata": {
        "colab": {
          "base_uri": "https://localhost:8080/",
          "height": 0
        },
        "id": "v7gkgfSWK_4m",
        "outputId": "897984d2-8d5e-4837-ffcb-3ed72b4fd9f9"
      },
      "execution_count": 103,
      "outputs": [
        {
          "output_type": "execute_result",
          "data": {
            "text/plain": [
              "[0.42157235741615295, 0.823324978351593]"
            ]
          },
          "metadata": {},
          "execution_count": 103
        }
      ]
    }
  ]
}